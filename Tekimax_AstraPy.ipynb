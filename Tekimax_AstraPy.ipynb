{
  "cells": [
    {
      "cell_type": "markdown",
      "id": "6715bc2b",
      "metadata": {
        "id": "6715bc2b"
      },
      "source": [
        "![](https://framerusercontent.com/images/XrtjzetA0V96Cl0di9eH9gsbpY.png)\n",
        "# Astra DB with AstraPy"
      ]
    },
    {
      "cell_type": "markdown",
      "id": "9f6e9609-7293-4d46-a63a-5e0986581d70",
      "metadata": {
        "id": "9f6e9609-7293-4d46-a63a-5e0986581d70"
      },
      "source": [
        "Learn how to use your Astra DB database with AstraPy.\n",
        "\n",
        "In this quickstart, you'll create a vector collection, store a few documents on it, and run **vector searches** on it.\n",
        "\n",
        "_Prerequisites:_ Make sure you have an Astra DB instance and get ready to supply the corresponding *Token* and the *API Endpoint*\n",
        "(read more [here](https://docs.datastax.com/en/astra/home/astra.html))."
      ]
    },
    {
      "cell_type": "markdown",
      "id": "14da74b6",
      "metadata": {
        "id": "14da74b6"
      },
      "source": [
        "## Setup"
      ]
    },
    {
      "cell_type": "code",
      "execution_count": null,
      "id": "042f832e",
      "metadata": {
        "id": "042f832e"
      },
      "outputs": [],
      "source": [
        "!pip install --quiet --upgrade astrapy openai langchain tiktoken gradio"
      ]
    },
    {
      "cell_type": "markdown",
      "id": "84026946",
      "metadata": {
        "id": "84026946"
      },
      "source": [
        "### Import needed libraries"
      ]
    },
    {
      "cell_type": "code",
      "execution_count": 2,
      "id": "5b15d1a4",
      "metadata": {
        "id": "5b15d1a4"
      },
      "outputs": [],
      "source": [
        "import os, json\n",
        "from getpass import getpass\n",
        "\n",
        "from astrapy.db import AstraDB"
      ]
    },
    {
      "cell_type": "markdown",
      "id": "968c5070-24a1-4cf3-a923-2478ceaa2e37",
      "metadata": {
        "id": "968c5070-24a1-4cf3-a923-2478ceaa2e37"
      },
      "source": [
        "### Provide database credentials\n",
        "\n",
        "These are the connection parameters on your Astra dashboard. Example values:\n",
        "\n",
        "- API Endpoint: `https://01234567-89ab-cdef-0123-456789abcdef-us-east1.apps.astra.datastax.com`\n",
        "- Token: `AstraCS:6gBhNmsk135...`\n"
      ]
    },
    {
      "cell_type": "code",
      "execution_count": 3,
      "id": "0c9a7b18-e7a8-466e-8785-2becc94017fb",
      "metadata": {
        "id": "0c9a7b18-e7a8-466e-8785-2becc94017fb"
      },
      "outputs": [],
      "source": [
        "ASTRA_DB_API_ENDPOINT = \"\"\n",
        "ASTRA_DB_APPLICATION_TOKEN = \"\""
      ]
    },
    {
      "cell_type": "code",
      "source": [
        "os.environ['OPENAI_API_KEY'] = \"\""
      ],
      "metadata": {
        "id": "Op73MZCTkC_6"
      },
      "id": "Op73MZCTkC_6",
      "execution_count": 4,
      "outputs": []
    },
    {
      "cell_type": "markdown",
      "id": "485d5347",
      "metadata": {
        "id": "485d5347"
      },
      "source": [
        "## Create a collection"
      ]
    },
    {
      "cell_type": "markdown",
      "id": "6429f29a",
      "metadata": {
        "id": "6429f29a"
      },
      "source": [
        "### Create the client"
      ]
    },
    {
      "cell_type": "code",
      "execution_count": 5,
      "id": "971edbec",
      "metadata": {
        "id": "971edbec"
      },
      "outputs": [],
      "source": [
        "astra_db = AstraDB(\n",
        "    api_endpoint=ASTRA_DB_API_ENDPOINT,\n",
        "    token=ASTRA_DB_APPLICATION_TOKEN,\n",
        "    namespace='tekimax'\n",
        ")"
      ]
    },
    {
      "cell_type": "markdown",
      "id": "13d51223",
      "metadata": {
        "id": "13d51223"
      },
      "source": [
        "### Create the collection\n",
        "\n",
        "The `create_collection` method results in a new collection on your database."
      ]
    },
    {
      "cell_type": "code",
      "execution_count": 6,
      "id": "895ae303-8e47-46ae-94b8-6d2e1e2f1113",
      "metadata": {
        "id": "895ae303-8e47-46ae-94b8-6d2e1e2f1113"
      },
      "outputs": [],
      "source": [
        "collection = astra_db.create_collection(\"players_collection\", dimension=1536)"
      ]
    },
    {
      "cell_type": "markdown",
      "id": "116596b5-e199-4869-9085-87a0af281afc",
      "metadata": {
        "id": "116596b5-e199-4869-9085-87a0af281afc"
      },
      "source": [
        "Here, `dimension` is the vector dimension (or \"size\", i.e. how many numeric components your vector will have).\n",
        "\n",
        "We choose a very low number in this example for demonstration purposes, but actual embedding vectors usually are much longer.\n",
        "\n",
        "_Note:_ In case it exists already and the parameters match, this method does just return the collection -- you will get an error, instead, if you try to create a collection with the same name but a different configuration (such as a mismatching dimension)."
      ]
    },
    {
      "cell_type": "markdown",
      "id": "4d6effcf",
      "metadata": {
        "id": "4d6effcf"
      },
      "source": [
        "## Insert documents"
      ]
    },
    {
      "cell_type": "markdown",
      "id": "6b012402",
      "metadata": {
        "id": "6b012402"
      },
      "source": [
        "### Insert one document\n",
        "\n",
        "When working with vector stores, your documents can have arbitrary fields, as long as you use only letters, digits and the `_` (underscore) character, preferrably sticking to `snake_case`, in their name.\n",
        "\n",
        "In particular, note the reserved dollar sign in the field names `$vector` and `$similarity`."
      ]
    },
    {
      "cell_type": "code",
      "source": [
        "from openai import OpenAI\n",
        "\n",
        "client = OpenAI(\n",
        "  api_key=os.environ['OPENAI_API_KEY'],  # this is also the default, it can be omitted\n",
        ")\n",
        "\n",
        "embedding_model_name = \"text-embedding-ada-002\""
      ],
      "metadata": {
        "id": "LQnGiyS8dWBD"
      },
      "id": "LQnGiyS8dWBD",
      "execution_count": 7,
      "outputs": []
    },
    {
      "cell_type": "code",
      "source": [
        "def generate_llm_reponse(metadata):\n",
        "\n",
        "    llm_input = f\"\"\"\n",
        "                Given the following information, Extract the basketball player related stats and generate a metrics for player performance comparison,\n",
        "                User should be able to run vector embedded similarity searches on this metrics such as 'Players with minimum Personal Fouls' , '  'Players with top scores',\n",
        "                If a specific metrics item is zero the display that metrics preceded by 'No',\n",
        "                Only output the metrics , no other comments:\n",
        "\n",
        "                {metadata}\n",
        "\n",
        "                End of information.\n",
        "                \"\"\"\n",
        "\n",
        "    response = client.chat.completions.create(\n",
        "        model=\"gpt-4\",\n",
        "        messages=[\n",
        "            {\"role\": \"system\", \"content\": \"You are a helpful assistant. Use the instructions provided to process the information.\"},\n",
        "            {\"role\": \"user\", \"content\": llm_input}\n",
        "        ]\n",
        "    )\n",
        "\n",
        "    return response.choices[0].message.content"
      ],
      "metadata": {
        "id": "IEX8zkYXh1B5"
      },
      "id": "IEX8zkYXh1B5",
      "execution_count": 8,
      "outputs": []
    },
    {
      "cell_type": "markdown",
      "source": [
        "Note: Metadata may need to be converted into more natural langauage if that kind of queries should be supported"
      ],
      "metadata": {
        "id": "Hl0Y9gmpAWel"
      },
      "id": "Hl0Y9gmpAWel"
    },
    {
      "cell_type": "code",
      "execution_count": null,
      "id": "c29a6f70",
      "metadata": {
        "id": "c29a6f70"
      },
      "outputs": [],
      "source": [
        "import uuid\n",
        "\n",
        "# record #1\n",
        "\n",
        "# could be a player id\n",
        "uuid_rec1 = str(uuid.uuid1())\n",
        "\n",
        "metadata = \"\"\"{\"Player\":\"John Abramovic\",\"Pos\":\"F\",\"Age\":27,\"Tm\":\"PIT\",\"G\":47,\"FG\":202,\"FGA\":834,\"FGPercentage\":0.242,\"2P\":202,\"2PA\":834,\"2PPercentage\":0.242,\"eFGPercentage\":0.242,\"FT\":123,\"FTA\":178,\"FTPercentage\":0.691,\"AST\":35,\"PF\":161.0,\"PTS\":527.0,\"League\":\"BAA\",\"Year\":1947}\"\"\"\n",
        "\n",
        "playerPerformace_rec1 = generate_llm_reponse(metadata)\n",
        "print(playerPerformace_rec1)\n",
        "vectorData = \"{} : {}\".format(metadata, playerPerformace_rec1)\n",
        "\n",
        "vector_embedding_rec1 = client.embeddings.create(\n",
        "        input=playerPerformace_rec1,\n",
        "        model=embedding_model_name,\n",
        "    ).data[0].embedding\n",
        "\n",
        "\n",
        "# record #2\n",
        "\n",
        "uuid_rec2 = str(uuid.uuid1())\n",
        "\n",
        "metadata = \"\"\"{\"Player\":\"Chet Aubuchon\",\"Pos\":\"G\",\"Age\":30,\"Tm\":\"DTF\",\"G\":30,\"FG\":23,\"FGA\":91,\"FGPercentage\":0.253,\"2P\":23,\"2PA\":91,\"2PPercentage\":0.253,\"eFGPercentage\":0.253,\"FT\":19,\"FTA\":35,\"FT Percentage\":0.543,\"AST\":20,\"PF\":46.0,\"PTS\":65.0,\"League\":\"BAA\",\"Year\":1947}\"\"\"\n",
        "\n",
        "playerPerformace_rec2 = generate_llm_reponse(metadata)\n",
        "print(playerPerformace_rec2)\n",
        "vectorData = \"{} : {}\".format(metadata, playerPerformace_rec2)\n",
        "\n",
        "vector_embedding_rec2 = client.embeddings.create(\n",
        "        input=playerPerformace_rec2,\n",
        "        model=embedding_model_name,\n",
        "    ).data[0].embedding\n",
        "\n",
        "\n",
        "# record #3\n",
        "\n",
        "uuid_rec3 = str(uuid.uuid1())\n",
        "\n",
        "metadata = \"\"\"{\"Player\":\"Norm Baker\",\"Pos\":\"G\",\"Age\":23,\"Tm\":\"CHS\",\"G\":4,\"FG\":0,\"FGA\":1,\"FGPercentage\":0.0,\"2P\":0,\"2PA\":1,\"2PPercentage\":0.0,\"eFGPercentage\":0.0,\"FT\":0,\"FTA\":0,\"AST\":0,\"PF\":0.0,\"PTS\":0.0,\"League\":\"BAA\",\"Year\":1947}\"\"\"\n",
        "\n",
        "playerPerformace_rec3 = generate_llm_reponse(metadata)\n",
        "print(playerPerformace_rec3)\n",
        "vectorData = \"{} : {}\".format(metadata, playerPerformace_rec3)\n",
        "\n",
        "vector_embedding_rec3 = client.embeddings.create(\n",
        "        input=playerPerformace_rec3,\n",
        "        model=embedding_model_name,\n",
        "    ).data[0].embedding\n",
        "\n",
        "# record #4\n",
        "\n",
        "uuid_rec4 = str(uuid.uuid1())\n",
        "\n",
        "metadata = \"\"\"{\"Player\": \"Moe Becker\", \"Pos\": \"G-F\", \"Age\": 29.0, \"Tm\": \"TOT\", \"G\": 43.0, \"FG\": 70.0, \"FGA\": 358.0, \"FGPercentage\": 0.196, \"2P\": 70.0, \"2PA\": 358.0, \"2PPercentage\": 0.196, \"eFGPercentage\": 0.196, \"FT\": 22.0, \"FTA\": 44.0, \"AST\": 30.0, \"PF\": 98.0, \"PTS\": 162.0, \"League\": \"BAA\", \"Year\": 1947}\"\"\"\n",
        "\n",
        "playerPerformace_rec4 = generate_llm_reponse(metadata)\n",
        "print(playerPerformace_rec4)\n",
        "vectorData = \"{} : {}\".format(metadata, playerPerformace_rec4)\n",
        "\n",
        "vector_embedding_rec4 = client.embeddings.create(\n",
        "        input=playerPerformace_rec4,\n",
        "        model=embedding_model_name,\n",
        "    ).data[0].embedding\n",
        "\n",
        "# record #5\n",
        "\n",
        "uuid_rec5 = str(uuid.uuid1())\n",
        "\n",
        "metadata = \"\"\"{\"Player\": \"Hank Beenders\", \"Pos\": \"C\", \"Age\": 30.0, \"Tm\": \"PRO\", \"G\": 58.0, \"FG\": 266.0, \"FGA\": 1016.0, \"FGPercentage\": 0.262, \"2P\": 266.0, \"2PA\": 1016.0, \"2PPercentage\": 0.262, \"eFGPercentage\": 0.262, \"FT\": 181.0, \"FTA\": 257.0, \"AST\": 37.0, \"PF\": 196.0, \"PTS\": 713.0, \"League\": \"BAA\", \"Year\": 1947}\"\"\"\n",
        "\n",
        "playerPerformace_rec5 = generate_llm_reponse(metadata)\n",
        "print(playerPerformace_rec5)\n",
        "vectorData = \"{} : {}\".format(metadata, playerPerformace_rec5)\n",
        "\n",
        "vector_embedding_rec5 = client.embeddings.create(\n",
        "        input=playerPerformace_rec5,\n",
        "        model=embedding_model_name,\n",
        "    ).data[0].embedding\n",
        "\n",
        "# record #6\n",
        "\n",
        "uuid_rec6 = str(uuid.uuid1())\n",
        "\n",
        "metadata = \"\"\"{\"Player\": \"Hank Beenders\", \"Pos\": \"F\", \"Age\": 31.0, \"Tm\": \"TOT\", \"G\": 45.0, \"FG\": 76.0, \"FGA\": 269.0, \"FG%\": 0.283, \"2P\": 76.0, \"2PA\": 269.0, \"2P%\": 0.283, \"eFG%\": 0.283, \"FT\": 51.0, \"FTA\": 82.0, \"FT%\": 0.622, \"AST\": 13.0, \"PF\": 99.0, \"PTS\": 203.0, \"League\": \"BAA\", \"Year\": 1948}\"\"\"\n",
        "\n",
        "playerPerformace_rec6 = generate_llm_reponse(metadata)\n",
        "print(playerPerformace_rec6)\n",
        "vectorData = \"{} : {}\".format(metadata, playerPerformace_rec6)\n",
        "\n",
        "vector_embedding_rec6 = client.embeddings.create(\n",
        "        input=playerPerformace_rec6,\n",
        "        model=embedding_model_name,\n",
        "    ).data[0].embedding\n"
      ]
    },
    {
      "cell_type": "markdown",
      "id": "fe944cf0",
      "metadata": {
        "id": "fe944cf0"
      },
      "source": [
        "### Insert multiple documents"
      ]
    },
    {
      "cell_type": "code",
      "execution_count": null,
      "id": "c9b5c026",
      "metadata": {
        "id": "c9b5c026"
      },
      "outputs": [],
      "source": [
        "v_doc_list = [\n",
        "    {\n",
        "        \"_id\": uuid_rec1,\n",
        "        \"Player\":\"John Abramovic\",\n",
        "        \"Pos\":\"F\",\n",
        "        \"Age\":27,\n",
        "        \"Tm\":\"PIT\",\n",
        "        \"G\":47,\n",
        "        \"FG\":202,\n",
        "        \"FGA\":834,\n",
        "        \"FGPercentage\":0.242,\n",
        "        \"2P\":202,\n",
        "        \"2PA\":834,\n",
        "        \"2PPercentage\":0.242,\n",
        "        \"eFGPercentage\":0.242,\n",
        "        \"FT\":123,\n",
        "        \"FTA\":178,\n",
        "        \"FTPercentage\":0.691,\n",
        "        \"AST\":35,\n",
        "        \"PF\":161,\n",
        "        \"PTS\":527,\n",
        "        \"League\":\"BAA\",\n",
        "        \"Year\":1947,\n",
        "        \"PlayerPerformace\": playerPerformace_rec1,\n",
        "        \"$vector\": vector_embedding_rec1\n",
        "    },\n",
        "    {\n",
        "        \"_id\": uuid_rec2,\n",
        "        \"Player\":\"Chet Aubuchon\",\n",
        "        \"Pos\":\"G\",\n",
        "        \"Age\":30,\n",
        "        \"Tm\":\"DTF\",\n",
        "        \"G\":30,\n",
        "        \"FG\":23,\n",
        "        \"FGA\":91,\n",
        "        \"FGPercentage\":0.253,\n",
        "        \"2P\":23,\n",
        "        \"2PA\":91,\n",
        "        \"2PPercentage\":0.253,\n",
        "        \"eFGPercentage\":0.253,\n",
        "        \"FT\":19,\n",
        "        \"FTA\":35,\n",
        "        \"FTPercentage\":0.543,\n",
        "        \"AST\":20,\n",
        "        \"PF\":46,\n",
        "        \"PTS\":65,\n",
        "        \"League\":\"BAA\",\n",
        "        \"Year\":1947,\n",
        "        \"PlayerPerformace\": playerPerformace_rec2,\n",
        "        \"$vector\": vector_embedding_rec2,\n",
        "    },\n",
        "    {\n",
        "        \"_id\": uuid_rec3,\n",
        "        \"Player\":\"Norm Baker\",\n",
        "        \"Pos\":\"G\",\n",
        "        \"Age\":23,\n",
        "        \"Tm\":\"CHS\",\n",
        "        \"G\":4,\n",
        "        \"FG\":0,\n",
        "        \"FGA\":1,\n",
        "        \"FGPercentage\":0.0,\n",
        "        \"2P\":0,\n",
        "        \"2PA\":1,\n",
        "        \"2PPercentage\":0.0,\n",
        "        \"eFGPercentage\":0.0,\n",
        "        \"FT\":0,\n",
        "        \"FTA\":0,\n",
        "        \"AST\":0,\n",
        "        \"PF\":0,\n",
        "        \"PTS\":0,\n",
        "        \"League\":\"BAA\",\n",
        "        \"Year\":1947,\n",
        "        \"PlayerPerformace\": playerPerformace_rec3,\n",
        "        \"$vector\": vector_embedding_rec3,\n",
        "    },\n",
        "    {\n",
        "        \"_id\": uuid_rec4,\n",
        "        \"Player\": \"Moe Becker\",\n",
        "        \"Pos\": \"G-F\",\n",
        "        \"Age\": 29.0,\n",
        "        \"Tm\": \"TOT\",\n",
        "        \"G\": 43.0,\n",
        "        \"FG\": 70.0,\n",
        "        \"FGA\": 358.0,\n",
        "        \"FGPercentage\": 0.196,\n",
        "        \"2P\": 70.0,\n",
        "        \"2PA\": 358.0,\n",
        "        \"2PPercentage\": 0.196,\n",
        "        \"eFGPercentage\": 0.196,\n",
        "        \"FT\": 22.0,\n",
        "        \"FTA\": 44.0,\n",
        "        \"AST\": 30.0,\n",
        "        \"PF\": 98.0,\n",
        "        \"PTS\": 162.0,\n",
        "        \"League\": \"BAA\",\n",
        "        \"Year\": 1947,\n",
        "        \"PlayerPerformace\": playerPerformace_rec4,\n",
        "        \"$vector\": vector_embedding_rec4,\n",
        "      },\n",
        "      {\n",
        "        \"_id\": uuid_rec5,\n",
        "        \"Player\": \"Hank Beenders\",\n",
        "        \"Pos\": \"C\",\n",
        "        \"Age\": 30.0,\n",
        "        \"Tm\": \"PRO\",\n",
        "        \"G\": 58.0,\n",
        "        \"FG\": 266.0,\n",
        "        \"FGA\": 1016.0,\n",
        "        \"FGPercentage\": 0.262,\n",
        "        \"2P\": 266.0,\n",
        "        \"2PA\": 1016.0,\n",
        "        \"2PPercentage\": 0.262,\n",
        "        \"eFGPercentage\": 0.262,\n",
        "        \"FT\": 181.0,\n",
        "        \"FTA\": 257.0,\n",
        "        \"AST\": 37.0,\n",
        "        \"PF\": 196.0,\n",
        "        \"PTS\": 713.0,\n",
        "        \"League\": \"BAA\",\n",
        "        \"Year\": 1947,\n",
        "        \"PlayerPerformace\": playerPerformace_rec5,\n",
        "        \"$vector\": vector_embedding_rec5,\n",
        "      },\n",
        "      {\n",
        "        \"_id\": uuid_rec6,\n",
        "        \"Player\": \"Hank Beenders\",\n",
        "        \"Pos\": \"C\",\n",
        "        \"Age\": 31.0,\n",
        "        \"Tm\": \"TOT\",\n",
        "        \"G\": 45.0,\n",
        "        \"FG\": 76.0,\n",
        "        \"FGA\": 269.0,\n",
        "        \"FGPercentage\": 0.283,\n",
        "        \"2P\": 76.0,\n",
        "        \"2PA\": 269.0,\n",
        "        \"2PPercentage\": 0.283,\n",
        "        \"eFGPercentage\": 0.283,\n",
        "        \"FT\": 51.0,\n",
        "        \"FTA\": 82.0,\n",
        "        \"FTPercentage\": 0.622,\n",
        "        \"AST\": 13.0,\n",
        "        \"PF\": 99.0,\n",
        "        \"PTS\": 203.0,\n",
        "        \"League\": \"BAA\",\n",
        "        \"Year\": 1948,\n",
        "        \"PlayerPerformace\": playerPerformace_rec6,\n",
        "        \"$vector\": vector_embedding_rec6,\n",
        "      }\n",
        "\n",
        "]\n",
        "\n",
        "response = collection.insert_many(v_doc_list)\n",
        "print(response)"
      ]
    },
    {
      "cell_type": "markdown",
      "id": "c13cfc42",
      "metadata": {
        "id": "c13cfc42"
      },
      "source": [
        "## Find documents\n",
        "\n",
        "Find by specific player:"
      ]
    },
    {
      "cell_type": "code",
      "execution_count": null,
      "id": "f312b0ab",
      "metadata": {
        "id": "f312b0ab"
      },
      "outputs": [],
      "source": [
        "document = collection.find_one(filter={\"Player\":\"Chet Aubuchon\"})\n",
        "print(document)"
      ]
    },
    {
      "cell_type": "markdown",
      "id": "1c281d57-6149-4dc7-b6b8-419bc1e6e8b2",
      "metadata": {
        "id": "1c281d57-6149-4dc7-b6b8-419bc1e6e8b2"
      },
      "source": [
        "Find by any (non-vector) filter clause:"
      ]
    },
    {
      "cell_type": "markdown",
      "id": "08302258",
      "metadata": {
        "id": "08302258"
      },
      "source": [
        "### Find by vector similarity\n",
        "\n",
        "By default, the `$similarity` field is returned with each document (note the decreasing order):"
      ]
    },
    {
      "cell_type": "code",
      "execution_count": null,
      "id": "a8a3c1a8",
      "metadata": {
        "id": "a8a3c1a8"
      },
      "outputs": [],
      "source": [
        "query_vector = client.embeddings.create(\n",
        "                    input='Team PIT',\n",
        "                    model=embedding_model_name,\n",
        "                ).data[0].embedding\n",
        "\n",
        "documents = collection.vector_find(query_vector,include_similarity=True, fields=[\"Player\",\"Tm\",\"League\", \"PF\"], limit=10)\n",
        "for document in documents:\n",
        "    print(f\"\\n{document}\")"
      ]
    },
    {
      "cell_type": "markdown",
      "id": "966ae2b7-62bb-45d6-9c63-ee5a070d7ea8",
      "metadata": {
        "id": "966ae2b7-62bb-45d6-9c63-ee5a070d7ea8"
      },
      "source": [
        "You can specify which **fields** you'll get back and/or whether you need the **similarity** as well:"
      ]
    },
    {
      "cell_type": "code",
      "execution_count": null,
      "id": "2849712a-fef3-4ae0-984d-4dd23cb7d2b6",
      "metadata": {
        "id": "2849712a-fef3-4ae0-984d-4dd23cb7d2b6"
      },
      "outputs": [],
      "source": [
        "documents = collection.vector_find(\n",
        "    query_vector,\n",
        "    limit=10,\n",
        "    fields=[\"Player\",\"Tm\",\"League\", \"PF\"],  # remember the dollar sign (reserved name)\n",
        "    include_similarity=False,\n",
        ")\n",
        "for document in documents:\n",
        "    print(f\"\\n{document}\")"
      ]
    },
    {
      "cell_type": "markdown",
      "id": "42c31dbe-263e-4997-b1fa-8be3613ea298",
      "metadata": {
        "id": "42c31dbe-263e-4997-b1fa-8be3613ea298"
      },
      "source": [
        "You can compound with other `filter` clauses, effectively implementing **metadata filtering** on your vector searches:"
      ]
    },
    {
      "cell_type": "code",
      "execution_count": null,
      "id": "56201b18-9672-46a3-a63c-49b032839706",
      "metadata": {
        "id": "56201b18-9672-46a3-a63c-49b032839706"
      },
      "outputs": [],
      "source": [
        "documents = collection.vector_find(\n",
        "    query_vector,\n",
        "    limit=10,\n",
        "    filter={'Tm': 'CHS'},\n",
        ")\n",
        "for document in documents:\n",
        "    print(f\"\\n{document}\")"
      ]
    },
    {
      "cell_type": "markdown",
      "id": "c35151b8",
      "metadata": {
        "id": "c35151b8"
      },
      "source": [
        "These options are supported for the `vector_find_one` method as well:"
      ]
    },
    {
      "cell_type": "code",
      "execution_count": null,
      "id": "87278dda",
      "metadata": {
        "id": "87278dda"
      },
      "outputs": [],
      "source": [
        "document = collection.vector_find_one(\n",
        "    query_vector,\n",
        "    fields=[\"PlayerPerformace\"],\n",
        "    include_similarity=True,  # not really necessary since True is the default\n",
        ")\n",
        "print(document)"
      ]
    },
    {
      "cell_type": "markdown",
      "id": "4db9bca8",
      "metadata": {
        "id": "4db9bca8"
      },
      "source": [
        "## Delete a collection"
      ]
    },
    {
      "cell_type": "code",
      "execution_count": 30,
      "id": "0d47a986",
      "metadata": {
        "id": "0d47a986",
        "colab": {
          "base_uri": "https://localhost:8080/"
        },
        "outputId": "d28f897e-6d90-480b-9cce-0e809943c562"
      },
      "outputs": [
        {
          "output_type": "stream",
          "name": "stdout",
          "text": [
            "{'status': {'ok': 1}}\n"
          ]
        }
      ],
      "source": [
        "response = astra_db.delete_collection(\"players_collection\")\n",
        "print(response)"
      ]
    },
    {
      "cell_type": "markdown",
      "source": [
        "#UI Demo"
      ],
      "metadata": {
        "id": "GeTTz1sOCjG3"
      },
      "id": "GeTTz1sOCjG3"
    },
    {
      "cell_type": "code",
      "source": [
        "prompt_template_str = \"\"\"Human: Use the following pieces of context to provide a concise answer to the question at the end.\n",
        "                      If you don't know the answer, just say that you don't know, don't try to make up an answer.\n",
        "\n",
        "                      <context>\n",
        "                      {context}\n",
        "                      </context>\n",
        "\n",
        "                      Question: {question}\n",
        "\n",
        "                      Assistant:\"\"\"\n",
        "\n",
        "def answer_question_openai(question: str, verbose: bool = False) -> str:\n",
        "    if verbose:\n",
        "        print(f\"\\n[answer_question] Question: {question}\")\n",
        "    # Retrieval of the most relevant stored documents from the vector store:\n",
        "\n",
        "    query_vector = client.embeddings.create(\n",
        "                    input=question,\n",
        "                    model=embedding_model_name,\n",
        "                ).data[0].embedding\n",
        "\n",
        "    context_docs = collection.vector_find(\n",
        "        query_vector,\n",
        "        limit=5,\n",
        "        fields=[\"PlayerPerformace\"],  # remember the dollar sign (reserved name)\n",
        "        include_similarity=False,\n",
        "    )\n",
        "    context = \"\\n\".join(doc['PlayerPerformace'] for doc in context_docs)\n",
        "    if verbose:\n",
        "        print(\"\\n[answer_question] Context:\")\n",
        "        print(context)\n",
        "    # Filling the prompt template with the current values\n",
        "    llm_prompt_str = prompt_template_str.format(\n",
        "        context=context,\n",
        "        question=question\n",
        "    )\n",
        "\n",
        "    response = client.chat.completions.create(\n",
        "        model=\"gpt-4\",\n",
        "        temperature=0,\n",
        "        messages=[\n",
        "            {\"role\": \"system\", \"content\": \"You are a helpful assistant. Use the instructions provided to process the information.\"},\n",
        "            {\"role\": \"user\", \"content\": llm_prompt_str}\n",
        "        ]\n",
        "    )\n",
        "    print(response)\n",
        "    return response.choices[0].message.content"
      ],
      "metadata": {
        "id": "eZw34foU0Ekw"
      },
      "id": "eZw34foU0Ekw",
      "execution_count": null,
      "outputs": []
    },
    {
      "cell_type": "code",
      "source": [
        "import gradio as gr\n",
        "\n",
        "def predict(message, history):\n",
        "    response = answer_question_openai(message)\n",
        "    return response\n",
        "\n",
        "gr.ChatInterface(predict).launch()"
      ],
      "metadata": {
        "id": "9V7IdCerCHMI"
      },
      "id": "9V7IdCerCHMI",
      "execution_count": null,
      "outputs": []
    }
  ],
  "metadata": {
    "kernelspec": {
      "display_name": "Python 3 (ipykernel)",
      "language": "python",
      "name": "python3"
    },
    "language_info": {
      "codemirror_mode": {
        "name": "ipython",
        "version": 3
      },
      "file_extension": ".py",
      "mimetype": "text/x-python",
      "name": "python",
      "nbconvert_exporter": "python",
      "pygments_lexer": "ipython3",
      "version": "3.9.17"
    },
    "colab": {
      "provenance": []
    }
  },
  "nbformat": 4,
  "nbformat_minor": 5
}